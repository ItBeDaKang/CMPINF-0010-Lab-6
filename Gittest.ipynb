{
 "cells": [
  {
   "cell_type": "code",
   "execution_count": null,
   "id": "d9c056bf-8eae-4080-b41e-c12f644454d7",
   "metadata": {},
   "outputs": [],
   "source": [
    "name=input(\"Enter a name\")\n",
    "num=int(input(\"Enter a number\"))\n",
    "if num >100:\n",
    "    print(name + \", \"+ \"this number is greater than 100\")\n",
    "elif num <100:\n",
    "    print(name +\", \"+ \"this number is less than 100\")\n",
    "else:\n",
    "     print(name +\", \"+ \"this number is equal to 100\") "
   ]
  }
 ],
 "metadata": {
  "kernelspec": {
   "display_name": "Python 3 (ipykernel)",
   "language": "python",
   "name": "python3"
  },
  "language_info": {
   "codemirror_mode": {
    "name": "ipython",
    "version": 3
   },
   "file_extension": ".py",
   "mimetype": "text/x-python",
   "name": "python",
   "nbconvert_exporter": "python",
   "pygments_lexer": "ipython3",
   "version": "3.11.5"
  }
 },
 "nbformat": 4,
 "nbformat_minor": 5
}
